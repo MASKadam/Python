{
 "cells": [
  {
   "cell_type": "code",
   "execution_count": null,
   "id": "cd995fb2-664b-49d7-8975-fc4871f2ff36",
   "metadata": {},
   "outputs": [],
   "source": [
    "\"\"\"Question 1 Discuss string slicing and provide examples?\n",
    " \n",
    "Answer- Python's \"string slicing\" method allows you to use a range of indices to retrieve a specific piece of a string. \n",
    "It enables you to use the slicing operator [:] to access particular portions of a string, such as substrings.\n",
    "\"\"\""
   ]
  },
  {
   "cell_type": "code",
   "execution_count": null,
   "id": "9b136eb6-29f3-4eb1-aec7-40eaf178b70f",
   "metadata": {},
   "outputs": [
    {
     "name": "stdout",
     "output_type": "stream",
     "text": [
      "Hello\n",
      "World\n"
     ]
    }
   ],
   "source": [
    "text = \"Hello, World!\"\n",
    "print(text[0:5])    \n",
    "print(text[7:12])   \n"
   ]
  },
  {
   "cell_type": "code",
   "execution_count": null,
   "id": "998a4a3f-853e-4f3c-b029-1b2b463f8828",
   "metadata": {},
   "outputs": [
    {
     "name": "stdout",
     "output_type": "stream",
     "text": [
      "Hello\n"
     ]
    }
   ],
   "source": [
    "\n",
    "print(text[:5])  #Print from starting index to 4th index.\n"
   ]
  },
  {
   "cell_type": "code",
   "execution_count": null,
   "id": "4548eb48-bc57-4d59-8732-b5689a1646d6",
   "metadata": {},
   "outputs": [
    {
     "name": "stdout",
     "output_type": "stream",
     "text": [
      "World!\n"
     ]
    }
   ],
   "source": [
    "print(text[7:])     #Print from starting 7th index to end.\n"
   ]
  },
  {
   "cell_type": "code",
   "execution_count": null,
   "id": "a0751f31-14ad-4de6-926d-6a4f0dc68a5f",
   "metadata": {},
   "outputs": [
    {
     "name": "stdout",
     "output_type": "stream",
     "text": [
      "Hlo ol!\n"
     ]
    }
   ],
   "source": [
    "print(text [::2]) #take every 2nd character starting from the beginning till end as start and stop is not given."
   ]
  },
  {
   "cell_type": "code",
   "execution_count": null,
   "id": "56362079-1639-4a6b-b6b1-aced1dc1a6c5",
   "metadata": {},
   "outputs": [
    {
     "name": "stdout",
     "output_type": "stream",
     "text": [
      "el,Wrd\n"
     ]
    }
   ],
   "source": [
    "print(text[1::2])   #skipping every 2nd character starting from index 1"
   ]
  },
  {
   "cell_type": "code",
   "execution_count": null,
   "id": "a7b7cad9-f4b9-44db-b6c0-8656334dc6b5",
   "metadata": {},
   "outputs": [
    {
     "data": {
      "text/plain": [
       "'d!'"
      ]
     },
     "execution_count": 73,
     "metadata": {},
     "output_type": "execute_result"
    }
   ],
   "source": [
    "text[:-2] #negative indexing\n",
    "text[-2:]"
   ]
  },
  {
   "cell_type": "code",
   "execution_count": null,
   "id": "c2c0c90a-7da2-4ec4-a4b7-042346cf0cbc",
   "metadata": {},
   "outputs": [
    {
     "data": {
      "text/plain": [
       "'el,Wr'"
      ]
     },
     "execution_count": 74,
     "metadata": {},
     "output_type": "execute_result"
    }
   ],
   "source": [
    "text[1:11:2] #(slice from 1 to 10 every second character) [start:stop:step]"
   ]
  },
  {
   "cell_type": "code",
   "execution_count": null,
   "id": "cc7db48b-cf2b-49d6-8b4e-c4cf24202056",
   "metadata": {},
   "outputs": [
    {
     "data": {
      "text/plain": [
       "'rl'"
      ]
     },
     "execution_count": 83,
     "metadata": {},
     "output_type": "execute_result"
    }
   ],
   "source": [
    "text[-4:-2] #negative slicing"
   ]
  },
  {
   "cell_type": "code",
   "execution_count": null,
   "id": "7496b439-c049-48c3-8e26-09c4367b930a",
   "metadata": {},
   "outputs": [
    {
     "data": {
      "text/plain": [
       "'!dlroW ,olleH'"
      ]
     },
     "execution_count": 85,
     "metadata": {},
     "output_type": "execute_result"
    }
   ],
   "source": [
    "text [::-1] #string reversal"
   ]
  },
  {
   "cell_type": "code",
   "execution_count": null,
   "id": "e71744c3-d211-43d6-9b36-44e7dd3a82bf",
   "metadata": {},
   "outputs": [],
   "source": [
    "\"\"\"Question 2\n",
    "Explain the key features of lists in Python.\n",
    "\n",
    "Answer - The elements in a list maintain their order. When you add elements to a list, they are stored in a specific sequence.\n",
    "They are mutable and are heterogenous in nature.We can add or remove elements from the list and can also access elements form it by slicing \n",
    "using indexes.\n",
    "\n",
    "List comprehensions offer an easy method for making lists. \n",
    "Creating new lists with each element the outcome of a particular action performed on each item of another sequence is a common use case.\n",
    "\n",
    "For eg.\n",
    "\"\"\"\n"
   ]
  },
  {
   "cell_type": "code",
   "execution_count": null,
   "id": "458e539d-ed91-4fe9-a2f8-ec6f38f6bd70",
   "metadata": {},
   "outputs": [
    {
     "name": "stdout",
     "output_type": "stream",
     "text": [
      "[0, 1, 4, 9, 16]\n"
     ]
    }
   ],
   "source": [
    "squares = [x**2 for x in range(5)]\n",
    "print(squares)  "
   ]
  },
  {
   "cell_type": "code",
   "execution_count": null,
   "id": "5d8fbf1b-23c4-4f6c-b173-a8ed04ca3734",
   "metadata": {},
   "outputs": [],
   "source": [
    "\"\"\"Lists also comes with variety of built-in methods that make common operations such as append,\n",
    "insert,sort and has lists within lists for complex data structures.\"\"\""
   ]
  },
  {
   "cell_type": "code",
   "execution_count": null,
   "id": "4c4048f3-70fe-4aee-863f-e9e104cb3f8b",
   "metadata": {},
   "outputs": [],
   "source": [
    "\"\"\"Question 3 Describe how to access, modify and delete elements in a list with examples.\"\"\"\n",
    "\n",
    "l = [\"Skoda\",\"BMW\",\"Audi\",\"Mercsedes\",\"Hyundai\",\"MG\"]"
   ]
  },
  {
   "cell_type": "code",
   "execution_count": null,
   "id": "70613a79-7977-4f8b-8858-4fe15c1b9d6c",
   "metadata": {},
   "outputs": [
    {
     "data": {
      "text/plain": [
       "'BMW'"
      ]
     },
     "execution_count": 137,
     "metadata": {},
     "output_type": "execute_result"
    }
   ],
   "source": [
    "l[1] #accessing an element"
   ]
  },
  {
   "cell_type": "code",
   "execution_count": null,
   "id": "da96586c-b36d-470a-b5ed-8e36c41fb85f",
   "metadata": {},
   "outputs": [
    {
     "data": {
      "text/plain": [
       "['BMW', 'Mercsedes']"
      ]
     },
     "execution_count": 138,
     "metadata": {},
     "output_type": "execute_result"
    }
   ],
   "source": [
    "l[1:4:2] #accessing an element "
   ]
  },
  {
   "cell_type": "code",
   "execution_count": null,
   "id": "b8de6336-b72c-42de-a816-1dd25a79591c",
   "metadata": {},
   "outputs": [],
   "source": [
    "#modification of list\n",
    "l[3] = \"KIA\" "
   ]
  },
  {
   "cell_type": "code",
   "execution_count": null,
   "id": "bc68a2b7-37b4-4a44-919b-7a176a661f9a",
   "metadata": {},
   "outputs": [
    {
     "data": {
      "text/plain": [
       "['Skoda', 'BMW', 'Audi', 'KIA', 'Hyundai', 'MG']"
      ]
     },
     "execution_count": 140,
     "metadata": {},
     "output_type": "execute_result"
    }
   ],
   "source": [
    "l"
   ]
  },
  {
   "cell_type": "code",
   "execution_count": null,
   "id": "a86c1c79-c96d-4c2b-9532-29550b32d248",
   "metadata": {},
   "outputs": [
    {
     "data": {
      "text/plain": [
       "['BMW', 'TATA', 'Audi', 'KIA']"
      ]
     },
     "execution_count": 148,
     "metadata": {},
     "output_type": "execute_result"
    }
   ],
   "source": [
    "l[1:5:1]"
   ]
  },
  {
   "cell_type": "code",
   "execution_count": null,
   "id": "2a503000-e8b6-4701-9982-6f4670ad0785",
   "metadata": {},
   "outputs": [
    {
     "data": {
      "text/plain": [
       "['Skoda', 'BMW', 'TATA', 'Audi', 'KIA', 'Hyundai', 'MG']"
      ]
     },
     "execution_count": 141,
     "metadata": {},
     "output_type": "execute_result"
    }
   ],
   "source": [
    "l.insert(2,\"TATA\") #Adding ekements"
   ]
  },
  {
   "cell_type": "code",
   "execution_count": null,
   "id": "496b7c82-2f41-4383-8cf8-10e0f3c94e52",
   "metadata": {},
   "outputs": [
    {
     "data": {
      "text/plain": [
       "['Skoda', 'BMW', 'TATA', 'Audi', 'KIA', 'Hyundai', 'MG', 'Maruti', 'Maruti']"
      ]
     },
     "execution_count": 143,
     "metadata": {},
     "output_type": "execute_result"
    }
   ],
   "source": [
    "l.append(\"Maruti\")\n",
    "l"
   ]
  },
  {
   "cell_type": "code",
   "execution_count": null,
   "id": "ff93446c-44b2-48df-baed-190ed7e3c5f1",
   "metadata": {},
   "outputs": [
    {
     "data": {
      "text/plain": [
       "['Skoda', 'BMW', 'TATA', 'Audi', 'KIA', 'Hyundai', 'MG', 'Maruti']"
      ]
     },
     "execution_count": 144,
     "metadata": {},
     "output_type": "execute_result"
    }
   ],
   "source": [
    "l.remove(\"Maruti\") #removing elements from the list\n",
    "l"
   ]
  },
  {
   "cell_type": "code",
   "execution_count": null,
   "id": "c2a2303c-d68b-45a6-9534-53ea2a6235fe",
   "metadata": {},
   "outputs": [
    {
     "data": {
      "text/plain": [
       "'Maruti'"
      ]
     },
     "execution_count": 145,
     "metadata": {},
     "output_type": "execute_result"
    }
   ],
   "source": []
  },
  {
   "cell_type": "code",
   "execution_count": null,
   "id": "d81c344a-2dea-46a3-8396-a83ac9f9d305",
   "metadata": {},
   "outputs": [
    {
     "data": {
      "text/plain": [
       "['Skoda', 'BMW', 'TATA', 'Audi', 'KIA', 'Hyundai', 'MG']"
      ]
     },
     "execution_count": 146,
     "metadata": {},
     "output_type": "execute_result"
    }
   ],
   "source": [
    "l"
   ]
  },
  {
   "cell_type": "code",
   "execution_count": null,
   "id": "477b7828-b5b9-42d2-a291-368b665addd3",
   "metadata": {},
   "outputs": [],
   "source": [
    "\"\"\"Question 4 - Compare and contrast tuples and lists with examples\n",
    "\n",
    "Answer - Mutability: Tuples are immutable, meaning their elements cannot be changed, \n",
    "added, or removed after they are created. In contrast, lists are mutable and allow for modification of their elements.\n",
    "\n",
    "Syntax: Tuples are defined using parentheses () or without any delimiters, whereas lists are defined using square brackets [].\n",
    "\n",
    "Access: Both tuples and lists support indexing and slicing to access their elements.\n",
    "\n",
    "Use Case: Tuples are typically used for fixed collections of heterogeneous data, \n",
    "meaning the data can be of different types and is not expected to change. Lists, on the other hand, \n",
    "are suitable for collections that may change over time and can hold either homogeneous or heterogeneous data.\n",
    "\n",
    "Performance: Due to their immutability, tuples are generally faster than lists.\n",
    "\n",
    "Built-in Methods: Tuples have limited built-in methods, primarily count and index, due to their immutable nature. \n",
    "Lists have many built-in methods such as append, remove, sort, and others, providing extensive functionality for modifying the list.\"\"\"\n",
    "\n"
   ]
  },
  {
   "cell_type": "code",
   "execution_count": null,
   "id": "504d7f19-fdca-4634-bbb6-114ac6623acc",
   "metadata": {},
   "outputs": [
    {
     "name": "stdout",
     "output_type": "stream",
     "text": [
      "Ajay\n"
     ]
    }
   ],
   "source": [
    "#Tuple example\n",
    "\n",
    "person = (\"Ajay\", 30, \"Data Engineer\")\n",
    "print(person[0]) "
   ]
  },
  {
   "cell_type": "code",
   "execution_count": null,
   "id": "4b313814-210e-4e04-8299-f1402ffeacc4",
   "metadata": {},
   "outputs": [
    {
     "name": "stdout",
     "output_type": "stream",
     "text": [
      "['apple', 'banana', 'cherry', 'date']\n"
     ]
    }
   ],
   "source": [
    "#List example\n",
    "\n",
    "fruits = [\"apple\", \"banana\", \"cherry\"]\n",
    "fruits.append(\"date\")\n",
    "print(fruits)  \n"
   ]
  },
  {
   "cell_type": "code",
   "execution_count": null,
   "id": "deab28eb-f099-42e5-bb4a-74f80583bbe5",
   "metadata": {},
   "outputs": [],
   "source": [
    "\"\"\"Question 5-Describe the key features of sets and provide examples of their use\n",
    "\n",
    "Python sets are a basic type of data structure that let you keep distinct items in an unordered collection. \n",
    "Here are some essential characteristics of sets and examples to show how to use them:\n",
    "\n",
    "1.Unordered\n",
    "Sets do not maintain any order for the elements. This means that the items have no index and cannot be accessed via indices.\n"
   ]
  },
  {
   "cell_type": "code",
   "execution_count": null,
   "id": "b6b956e3-4fbe-442b-93cc-c28240399990",
   "metadata": {},
   "outputs": [
    {
     "name": "stdout",
     "output_type": "stream",
     "text": [
      "{1, 2, 3, 4}\n"
     ]
    }
   ],
   "source": [
    "my_set = {1, 2, 3, 4}\n",
    "print(my_set)  \n"
   ]
  },
  {
   "cell_type": "code",
   "execution_count": 6,
   "id": "72349409-3598-443b-b15a-731d7545945e",
   "metadata": {},
   "outputs": [
    {
     "name": "stdout",
     "output_type": "stream",
     "text": [
      "{1, 2, 3, 4}\n"
     ]
    }
   ],
   "source": [
    "#2.Sets automatically ensure that all elements are unique. Duplicate elements are not allowed.\n",
    "my_set = {1, 2, 2, 3, 4, 4}\n",
    "print(my_set)  "
   ]
  },
  {
   "cell_type": "code",
   "execution_count": 8,
   "id": "111767a2-ffad-4eaa-a92a-19657fac626f",
   "metadata": {},
   "outputs": [],
   "source": [
    "#3.Sets are mutable, which means you can add or remove elements after the set has been created.\n",
    "my_set = {1, 2, 3}\n",
    " \n"
   ]
  },
  {
   "cell_type": "code",
   "execution_count": 9,
   "id": "5e35c759-dabd-4fc7-8cf7-a69c3a423946",
   "metadata": {},
   "outputs": [
    {
     "name": "stdout",
     "output_type": "stream",
     "text": [
      "{1, 2, 3, 4}\n"
     ]
    }
   ],
   "source": [
    "my_set.add(4)\n",
    "print(my_set) \n"
   ]
  },
  {
   "cell_type": "code",
   "execution_count": 10,
   "id": "3e44c07c-31f5-4536-866f-7ea2076a25f6",
   "metadata": {},
   "outputs": [
    {
     "name": "stdout",
     "output_type": "stream",
     "text": [
      "{1, 3, 4}\n"
     ]
    }
   ],
   "source": [
    "my_set.remove(2)\n",
    "print(my_set)"
   ]
  },
  {
   "cell_type": "code",
   "execution_count": 13,
   "id": "a3a33630-59ee-4d6c-90fb-daf77265ee04",
   "metadata": {},
   "outputs": [
    {
     "name": "stdout",
     "output_type": "stream",
     "text": [
      "{1, 2, 3, 4, 5}\n"
     ]
    }
   ],
   "source": [
    "#4.Sets support standard mathematical operations like union, intersection, difference, and symmetric difference.\n",
    "set1 = {1, 2, 3}\n",
    "set2 = {3, 4, 5}\n",
    "\n",
    "# Union\n",
    "print(set1 | set2)  "
   ]
  },
  {
   "cell_type": "code",
   "execution_count": 14,
   "id": "c59a4fc6-e5da-4ade-ba47-7c15466a3894",
   "metadata": {},
   "outputs": [
    {
     "name": "stdout",
     "output_type": "stream",
     "text": [
      "{3}\n"
     ]
    }
   ],
   "source": [
    "# Intersection\n",
    "print(set1 & set2)  "
   ]
  },
  {
   "cell_type": "code",
   "execution_count": 15,
   "id": "f51e0095-933c-490e-bbcb-91121eaa5eea",
   "metadata": {},
   "outputs": [
    {
     "name": "stdout",
     "output_type": "stream",
     "text": [
      "{1, 2}\n"
     ]
    }
   ],
   "source": [
    "# Difference\n",
    "print(set1 - set2) \n"
   ]
  },
  {
   "cell_type": "code",
   "execution_count": 16,
   "id": "a95d3848-1e4e-4966-b78c-cf46244a2e57",
   "metadata": {},
   "outputs": [
    {
     "name": "stdout",
     "output_type": "stream",
     "text": [
      "{1, 2, 4, 5}\n"
     ]
    }
   ],
   "source": [
    "# Symmetric Difference\n",
    "print(set1 ^ set2) "
   ]
  },
  {
   "cell_type": "code",
   "execution_count": null,
   "id": "83a4c4e8-53d6-46c4-afc0-6b9749fc4b77",
   "metadata": {},
   "outputs": [],
   "source": [
    "\"\"\"Sets do not support indexing or slicing operations since they are unordered.A set's components have to be unchangeable. \n",
    "This implies that mutable data types, such as dictionaries or lists, cannot be used as set elements.\n",
    "Set comprehensions offer a succinct method for generating sets, and you can use them to create sets.\n",
    "\"\"\"\n"
   ]
  },
  {
   "cell_type": "code",
   "execution_count": null,
   "id": "b93e1215-7d94-49fa-8acb-da360290ef78",
   "metadata": {},
   "outputs": [],
   "source": [
    "\"\"\"\n",
    "\"Question 6-Discuss the use cases of tuples and sets in Python programming\n",
    "\n",
    "Tuples are immutable collections, ideal for storing fixed data, such as returning multiple values from functions, u\n",
    "sing as dictionary keys, and grouping related data with a known and fixed structure. \n",
    "They support iteration with unpacking in loops and comprehensions, making them useful for structured data. \n",
    "Sets, on the other hand, are mutable collections that automatically remove duplicates, \n",
    "providing an efficient way to store unique items and perform membership testing. \n",
    "They support mathematical set operations like union, intersection, difference, and symmetric difference.\n",
    "Sets are also efficient for removing items and can be created using set comprehensions for concise code. \n",
    "Both data structures have distinct use cases, \n",
    "with tuples being suitable for immutable collections and sets for unique, unordered collections."
   ]
  },
  {
   "cell_type": "code",
   "execution_count": 17,
   "id": "ffd93f79-d1f8-4967-a883-1c8978ec63ac",
   "metadata": {},
   "outputs": [
    {
     "name": "stdout",
     "output_type": "stream",
     "text": [
      "10 20\n"
     ]
    }
   ],
   "source": [
    "#Use Cases of Tuples\n",
    "#Functions can return multiple values packed into a tuple.\n",
    "def get_coordinates():\n",
    "    return (10, 20)\n",
    "\n",
    "x, y = get_coordinates()\n",
    "print(x, y)  \n"
   ]
  },
  {
   "cell_type": "code",
   "execution_count": 18,
   "id": "33dd33d5-38d3-40c0-8b75-23fc25e5f780",
   "metadata": {},
   "outputs": [
    {
     "ename": "TypeError",
     "evalue": "'tuple' object does not support item assignment",
     "output_type": "error",
     "traceback": [
      "\u001b[0;31m---------------------------------------------------------------------------\u001b[0m",
      "\u001b[0;31mTypeError\u001b[0m                                 Traceback (most recent call last)",
      "Cell \u001b[0;32mIn[18], line 3\u001b[0m\n\u001b[1;32m      1\u001b[0m \u001b[38;5;66;03m#Use tuples to store data that should not be changed.\u001b[39;00m\n\u001b[1;32m      2\u001b[0m person \u001b[38;5;241m=\u001b[39m (\u001b[38;5;124m\"\u001b[39m\u001b[38;5;124mAlice\u001b[39m\u001b[38;5;124m\"\u001b[39m, \u001b[38;5;241m30\u001b[39m, \u001b[38;5;124m\"\u001b[39m\u001b[38;5;124mEngineer\u001b[39m\u001b[38;5;124m\"\u001b[39m)\n\u001b[0;32m----> 3\u001b[0m \u001b[43mperson\u001b[49m\u001b[43m[\u001b[49m\u001b[38;5;241;43m1\u001b[39;49m\u001b[43m]\u001b[49m \u001b[38;5;241m=\u001b[39m \u001b[38;5;241m31\u001b[39m  \u001b[38;5;66;03m# This will raise a TypeError\u001b[39;00m\n",
      "\u001b[0;31mTypeError\u001b[0m: 'tuple' object does not support item assignment"
     ]
    }
   ],
   "source": [
    "#Use tuples to store data that should not be changed.\n",
    "person = (\"Alice\", 30, \"Engineer\")\n",
    "person[1] = 31  # This will raise a TypeError\n"
   ]
  },
  {
   "cell_type": "code",
   "execution_count": 19,
   "id": "024aa536-c412-40fb-8126-d938bddb4a6a",
   "metadata": {},
   "outputs": [
    {
     "name": "stdout",
     "output_type": "stream",
     "text": [
      "A\n"
     ]
    }
   ],
   "source": [
    "#Dictionary Keys:Tuples can be used as keys in dictionaries because they are immutable.\n",
    "coordinates = {(10, 20): \"A\", (30, 40): \"B\"}\n",
    "print(coordinates[(10, 20)])  # Output: A\n"
   ]
  },
  {
   "cell_type": "code",
   "execution_count": 21,
   "id": "539d94e5-d8b0-4021-a900-90ae57bad2f0",
   "metadata": {},
   "outputs": [
    {
     "name": "stdout",
     "output_type": "stream",
     "text": [
      "1: apple\n",
      "2: banana\n",
      "3: cherry\n"
     ]
    }
   ],
   "source": [
    "#Use tuples to unpack values directly in loops and comprehensions.\n",
    "items = [(1, 'apple'), (2, 'banana'), (3, 'cherry')]\n",
    "for count, fruit in items:\n",
    "    print(f\"{count}: {fruit}\")\n"
   ]
  },
  {
   "cell_type": "code",
   "execution_count": 22,
   "id": "5f98625c-af4a-4624-9e54-afc4ca74491b",
   "metadata": {},
   "outputs": [
    {
     "name": "stdout",
     "output_type": "stream",
     "text": [
      "{1, 2, 3, 4, 5}\n"
     ]
    }
   ],
   "source": [
    "\"\"\"Use Cases of Sets\"\"\"\n",
    "#Sets automatically remove duplicates from a collection of items.\n",
    "my_list = [1, 2, 2, 3, 4, 4, 5]\n",
    "unique_elements = set(my_list)\n",
    "print(unique_elements)  \n"
   ]
  },
  {
   "cell_type": "code",
   "execution_count": 24,
   "id": "1ab7ca7f-e457-477e-9f0b-dc11eb661d2b",
   "metadata": {},
   "outputs": [
    {
     "name": "stdout",
     "output_type": "stream",
     "text": [
      "True\n"
     ]
    }
   ],
   "source": [
    "#Sets provide an efficient way to check if an item is present in a collection.\n",
    "my_set = {1, 2, 3, 4}\n",
    "print(3 in my_set) \n",
    "\n"
   ]
  },
  {
   "cell_type": "code",
   "execution_count": 25,
   "id": "ce2a7aab-a6c0-47fa-930a-4c09810832e0",
   "metadata": {},
   "outputs": [
    {
     "name": "stdout",
     "output_type": "stream",
     "text": [
      "False\n"
     ]
    }
   ],
   "source": [
    "print(5 in my_set)  "
   ]
  },
  {
   "cell_type": "code",
   "execution_count": 26,
   "id": "1f1ff96c-d24c-465f-81d1-ea4995bd0322",
   "metadata": {},
   "outputs": [
    {
     "name": "stdout",
     "output_type": "stream",
     "text": [
      "{1, 2, 3, 4, 5, 6, 7, 8}\n"
     ]
    }
   ],
   "source": [
    "#Perform union, intersection, difference, and symmetric difference operations on sets.\n",
    "evens = {2, 4, 6, 8}\n",
    "odds = {1, 3, 5, 7}\n",
    "primes = {2, 3, 5, 7}\n",
    "\n",
    "print(evens | odds)  "
   ]
  },
  {
   "cell_type": "code",
   "execution_count": 27,
   "id": "7efabcb7-df7c-4d49-af24-8d1d5ae8266c",
   "metadata": {},
   "outputs": [
    {
     "name": "stdout",
     "output_type": "stream",
     "text": [
      "{2}\n"
     ]
    }
   ],
   "source": [
    "print(evens & primes)"
   ]
  },
  {
   "cell_type": "code",
   "execution_count": 28,
   "id": "9641f05e-d60d-4a48-a88f-f76b00d8d4b9",
   "metadata": {},
   "outputs": [
    {
     "name": "stdout",
     "output_type": "stream",
     "text": [
      "{8, 4, 6}\n"
     ]
    }
   ],
   "source": [
    "print(evens - primes)  "
   ]
  },
  {
   "cell_type": "code",
   "execution_count": 29,
   "id": "88ab31de-6ecd-4967-b059-6219c95e886c",
   "metadata": {},
   "outputs": [
    {
     "name": "stdout",
     "output_type": "stream",
     "text": [
      "{3, 4, 5, 6, 7, 8}\n"
     ]
    }
   ],
   "source": [
    "print(evens ^ primes) \n"
   ]
  },
  {
   "cell_type": "code",
   "execution_count": 31,
   "id": "cd88a195-bf12-45e4-8035-5394d2ad71e4",
   "metadata": {},
   "outputs": [],
   "source": [
    "\"\"\"Question 7:Describe how to add, modify, and delete items in a dictionary with examples.\n",
    "\n",
    "Answer - \"\"\"\n",
    "\n",
    "my_dict = {\"Name\" : \"Mayur\", \"Age\" : \"28\" , \"sex\" : \"Male\"}"
   ]
  },
  {
   "cell_type": "code",
   "execution_count": 32,
   "id": "2b08b44b-6900-4f87-af87-ec71acf34447",
   "metadata": {},
   "outputs": [
    {
     "data": {
      "text/plain": [
       "{'Name': 'Mayur', 'Age': '28', 'sex': 'Male'}"
      ]
     },
     "execution_count": 32,
     "metadata": {},
     "output_type": "execute_result"
    }
   ],
   "source": [
    "my_dict"
   ]
  },
  {
   "cell_type": "code",
   "execution_count": 35,
   "id": "46543c39-eb62-4747-b5e3-1487a3be2081",
   "metadata": {},
   "outputs": [
    {
     "name": "stdout",
     "output_type": "stream",
     "text": [
      "{'Name': 'Mayur', 'Age': '28', 'sex': 'Male'}\n"
     ]
    }
   ],
   "source": [
    "print(my_dict)"
   ]
  },
  {
   "cell_type": "code",
   "execution_count": 36,
   "id": "9dd49ffe-5c3c-4f4a-9426-20a63be8047d",
   "metadata": {},
   "outputs": [],
   "source": [
    "#Add item\n",
    "my_dict['Region'] = 'Mumbai'"
   ]
  },
  {
   "cell_type": "code",
   "execution_count": 37,
   "id": "61d118c8-3255-4506-b6e1-b362a6ec1e9b",
   "metadata": {},
   "outputs": [
    {
     "data": {
      "text/plain": [
       "{'Name': 'Mayur', 'Age': '28', 'sex': 'Male', 'Region': 'Mumbai'}"
      ]
     },
     "execution_count": 37,
     "metadata": {},
     "output_type": "execute_result"
    }
   ],
   "source": [
    "my_dict"
   ]
  },
  {
   "cell_type": "code",
   "execution_count": 38,
   "id": "6efdba39-be26-4950-a60b-ee85f917148d",
   "metadata": {},
   "outputs": [],
   "source": [
    "#Modify"
   ]
  },
  {
   "cell_type": "code",
   "execution_count": 39,
   "id": "2d1c462d-c009-41b9-bb10-74cb2d8c3a1a",
   "metadata": {},
   "outputs": [],
   "source": [
    "my_dict['Name'] = 'Ajay'"
   ]
  },
  {
   "cell_type": "code",
   "execution_count": 40,
   "id": "d458136f-b2c2-493d-9c14-7e751d40f194",
   "metadata": {},
   "outputs": [
    {
     "data": {
      "text/plain": [
       "{'Name': 'Ajay', 'Age': '28', 'sex': 'Male', 'Region': 'Mumbai'}"
      ]
     },
     "execution_count": 40,
     "metadata": {},
     "output_type": "execute_result"
    }
   ],
   "source": [
    "my_dict"
   ]
  },
  {
   "cell_type": "code",
   "execution_count": 48,
   "id": "f4cd7396-3ab9-4853-9082-bc4380369975",
   "metadata": {},
   "outputs": [],
   "source": [
    "#MDelete\n",
    "del my_dict['Age']"
   ]
  },
  {
   "cell_type": "code",
   "execution_count": 49,
   "id": "b791d30b-8a18-4d04-8a5b-84f85cdc4881",
   "metadata": {},
   "outputs": [
    {
     "data": {
      "text/plain": [
       "{'Name': 'Ajay', 'sex': 'Male', 'Region': 'Mumbai'}"
      ]
     },
     "execution_count": 49,
     "metadata": {},
     "output_type": "execute_result"
    }
   ],
   "source": [
    "my_dict"
   ]
  },
  {
   "cell_type": "markdown",
   "id": "3edf0b12-d87b-4212-a770-843cb33cb041",
   "metadata": {},
   "source": [
    "pop.my_dict()"
   ]
  },
  {
   "cell_type": "code",
   "execution_count": 78,
   "id": "7c28f7c7-3314-4723-af65-a98ec570fd6d",
   "metadata": {},
   "outputs": [
    {
     "data": {
      "text/plain": [
       "'Mumbai'"
      ]
     },
     "execution_count": 78,
     "metadata": {},
     "output_type": "execute_result"
    }
   ],
   "source": [
    "my_dict.pop('Region')"
   ]
  },
  {
   "cell_type": "code",
   "execution_count": 79,
   "id": "58e1e3ac-20b4-40ca-bda0-b55d44ee4a2b",
   "metadata": {},
   "outputs": [
    {
     "data": {
      "text/plain": [
       "{'Name': 'Ajay', 'sex': 'Male'}"
      ]
     },
     "execution_count": 79,
     "metadata": {},
     "output_type": "execute_result"
    }
   ],
   "source": [
    "my_dict"
   ]
  },
  {
   "cell_type": "code",
   "execution_count": null,
   "id": "00b8b7fa-b914-4497-8a9b-4e7f4459b951",
   "metadata": {},
   "outputs": [],
   "source": [
    "\"\"\"\n",
    "Question 8:Discuss the importance of dictionary keys being immutable and provide examples.\n",
    "Answer - \n",
    "Reliability and Consistency:\n",
    "\n",
    "Once a key-value pair is added to a dictionary, immutable keys guarantee that it can be reliably retrieved with the same key. \n",
    "The relationship between keys and values would become erratic if keys were changeable.\n",
    "Example: A dictionary would not be able to find the key in the event that a list was used as a key and changed after it was inserted, \n",
    "possibly resulting in data loss or corruption.\n",
    "\n",
    "\n"
   ]
  },
  {
   "cell_type": "code",
   "execution_count": 80,
   "id": "60f4fef7-d82d-4144-9429-9fb8d878e2d6",
   "metadata": {},
   "outputs": [
    {
     "name": "stdout",
     "output_type": "stream",
     "text": [
      "one\n"
     ]
    }
   ],
   "source": [
    "#Immutable Types:\n",
    "my_dict = {1: 'one', 2: 'two'}\n",
    "print(my_dict[1]) "
   ]
  },
  {
   "cell_type": "code",
   "execution_count": 81,
   "id": "f5a48d37-5bcb-434a-bd72-1969b8133a77",
   "metadata": {},
   "outputs": [
    {
     "name": "stdout",
     "output_type": "stream",
     "text": [
      "Alice\n"
     ]
    }
   ],
   "source": [
    "my_dict = {'name': 'Alice', 'age': 25}\n",
    "print(my_dict['name'])  \n"
   ]
  },
  {
   "cell_type": "code",
   "execution_count": 82,
   "id": "b6421659-3464-4f9c-9665-0afdbbc23e4a",
   "metadata": {},
   "outputs": [
    {
     "name": "stdout",
     "output_type": "stream",
     "text": [
      "point A\n"
     ]
    }
   ],
   "source": [
    "my_dict = {(1, 2): 'point A', (3, 4): 'point B'}\n",
    "print(my_dict[(1, 2)]) \n"
   ]
  },
  {
   "cell_type": "code",
   "execution_count": 86,
   "id": "a27482ee-84a9-4604-b14e-31c843d78f5d",
   "metadata": {},
   "outputs": [
    {
     "ename": "TypeError",
     "evalue": "unhashable type: 'list'",
     "output_type": "error",
     "traceback": [
      "\u001b[0;31m---------------------------------------------------------------------------\u001b[0m",
      "\u001b[0;31mTypeError\u001b[0m                                 Traceback (most recent call last)",
      "Cell \u001b[0;32mIn[86], line 3\u001b[0m\n\u001b[1;32m      1\u001b[0m \u001b[38;5;66;03m#since list is mutable we got am error\u001b[39;00m\n\u001b[1;32m      2\u001b[0m key \u001b[38;5;241m=\u001b[39m [\u001b[38;5;241m1\u001b[39m, \u001b[38;5;241m2\u001b[39m]\n\u001b[0;32m----> 3\u001b[0m my_dict \u001b[38;5;241m=\u001b[39m {key: \u001b[38;5;124m'\u001b[39m\u001b[38;5;124mvalue\u001b[39m\u001b[38;5;124m'\u001b[39m}\n\u001b[1;32m      4\u001b[0m key\u001b[38;5;241m.\u001b[39mappend(\u001b[38;5;241m3\u001b[39m)\n\u001b[1;32m      5\u001b[0m \u001b[38;5;28mprint\u001b[39m(my_dict[key])  \u001b[38;5;66;03m# This will raise a TypeError\u001b[39;00m\n",
      "\u001b[0;31mTypeError\u001b[0m: unhashable type: 'list'"
     ]
    }
   ],
   "source": [
    "#since list is mutable we will get an error\n",
    "key = [1, 2]\n",
    "my_dict = {key: 'value'}\n",
    "key.append(3)\n",
    "print(my_dict[key])  # This will raise a TypeError\n"
   ]
  }
 ],
 "metadata": {
  "kernelspec": {
   "display_name": "Python 3 (ipykernel)",
   "language": "python",
   "name": "python3"
  },
  "language_info": {
   "codemirror_mode": {
    "name": "ipython",
    "version": 3
   },
   "file_extension": ".py",
   "mimetype": "text/x-python",
   "name": "python",
   "nbconvert_exporter": "python",
   "pygments_lexer": "ipython3",
   "version": "3.10.8"
  }
 },
 "nbformat": 4,
 "nbformat_minor": 5
}

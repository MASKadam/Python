{
 "cells": [
  {
   "cell_type": "code",
   "execution_count": null,
   "id": "50ae0f70-8df3-490b-b70f-5401d394cc55",
   "metadata": {},
   "outputs": [],
   "source": [
    "#Q1 Explain the key features of Python that make it a popular choice for programming\n",
    "\n",
    "#Answer \n",
    "#1.Comes with many built-in modules and supports numerous third-party libraries.\n",
    "#2.Emphasizes clear, clean code, which is easy to understand and maintain.\n",
    "#3.Works well with other languages\n",
    "#4.User doesnt have to input variable type\n",
    "#5.Easy and clear code which easy to understand\n",
    "#6.Good for ananlysis of data , AI and also works in different OSs.\n",
    "#7.Works well with other languages and tools, offering extensive integration options."
   ]
  },
  {
   "cell_type": "code",
   "execution_count": null,
   "id": "d1236e36-f748-48f8-8391-8e71e21bdd76",
   "metadata": {},
   "outputs": [],
   "source": [
    "#Q2 Describe the role of predefined keywords in Python and provide examples of how they are used in a programming?\n",
    "\n",
    "#Answer\n",
    "\"\"\"Predefined keywords, commonly referred to as reserved words in Python, \n",
    "are concepts that the language itself defines with particular meanings and functionalities. \n",
    "These keywords cannot be used as identifiers (such as variable names, function names, or class names), \n",
    "but they are crucial to the syntax and organization of Python scripts. \n",
    "The following are some of the predefined keywords in Python.\"\"\"\n"
   ]
  },
  {
   "cell_type": "code",
   "execution_count": null,
   "id": "395a9542-cc0e-4064-ac19-095c9b5de06e",
   "metadata": {},
   "outputs": [],
   "source": [
    "#def,return,print,import,as,in,or,and,if ,else,nor,or,lambda."
   ]
  },
  {
   "cell_type": "code",
   "execution_count": 4,
   "id": "7bc737f1-db79-4c08-b43d-99ffda861e8c",
   "metadata": {},
   "outputs": [
    {
     "name": "stdout",
     "output_type": "stream",
     "text": [
      "Hello World\n"
     ]
    }
   ],
   "source": [
    "#For eg.1\n",
    "\n",
    "print(\"Hello World\") #print - to display the results"
   ]
  },
  {
   "cell_type": "code",
   "execution_count": 19,
   "id": "544a4d4a-b950-4fa6-b83d-53f9a58a38ac",
   "metadata": {},
   "outputs": [],
   "source": [
    "#For eg.2 \n",
    "def func(name): #def- to define a function .\n",
    "    return f\"Hello {name} How are you doing?\" #return - is used to exit the function and optionally return a value."
   ]
  },
  {
   "cell_type": "code",
   "execution_count": 20,
   "id": "d75e34f3-1df8-4be5-84a2-afda971fcd7f",
   "metadata": {},
   "outputs": [
    {
     "data": {
      "text/plain": [
       "'Hello Ajay How are you doing?'"
      ]
     },
     "execution_count": 20,
     "metadata": {},
     "output_type": "execute_result"
    }
   ],
   "source": [
    "func(\"Ajay\")"
   ]
  },
  {
   "cell_type": "code",
   "execution_count": null,
   "id": "0a08e262-a36c-4a8f-8a99-32614b7e7201",
   "metadata": {},
   "outputs": [],
   "source": [
    "#In both the examples above print and return are predefined keywords which are already assignes to execute desidred results."
   ]
  },
  {
   "cell_type": "code",
   "execution_count": 24,
   "id": "c7c1e79b-1f60-4a3c-9ed4-6e50195db26b",
   "metadata": {},
   "outputs": [],
   "source": [
    "#Question 3 Compare and contrast mutable and immutable objects in Python with examples.\n",
    "\n",
    "#Answer -\n",
    "\"\"\"Mutable Objects -Objects that can be altered after creation are known as mutable objects. \n",
    "Their identification remains unchanged even if you make changes to their content. \n",
    "In Python, lists, dictionaries, sets, and custom objects are examples of often changeable objects.\n",
    "\"\"\"\n",
    "\n",
    "\n",
    "\n",
    "\n"
   ]
  },
  {
   "cell_type": "code",
   "execution_count": 25,
   "id": "efa22574-2eb9-416e-9b59-82bcab327c4b",
   "metadata": {},
   "outputs": [],
   "source": [
    "List = [1, 2, 3]"
   ]
  },
  {
   "cell_type": "code",
   "execution_count": 26,
   "id": "3d37cef0-6c3e-4dde-85c5-f626add353e8",
   "metadata": {},
   "outputs": [],
   "source": [
    "List.append(4)"
   ]
  },
  {
   "cell_type": "code",
   "execution_count": 27,
   "id": "a472ae7e-0b12-4738-894a-eab2be25839d",
   "metadata": {},
   "outputs": [
    {
     "data": {
      "text/plain": [
       "[1, 2, 3, 4]"
      ]
     },
     "execution_count": 27,
     "metadata": {},
     "output_type": "execute_result"
    }
   ],
   "source": [
    "List"
   ]
  },
  {
   "cell_type": "code",
   "execution_count": 28,
   "id": "e32ade6c-8ac6-45cd-93b1-b228183cf74a",
   "metadata": {},
   "outputs": [],
   "source": [
    "#Here we added one more element to the list so it is mutable."
   ]
  },
  {
   "cell_type": "code",
   "execution_count": null,
   "id": "ada068e7-d5fa-4e58-996b-91e137c36c28",
   "metadata": {},
   "outputs": [],
   "source": [
    "\"\"\"Once created, immutable items cannot be altered. An immutable object gives rise to new objects with distinct identities \n",
    "whenever it is modified.Python's common immutable objects are strings, tuples, floats, and integers."
   ]
  },
  {
   "cell_type": "code",
   "execution_count": 30,
   "id": "6be87e67-b2f9-449c-a16d-3143a1763c3d",
   "metadata": {},
   "outputs": [
    {
     "ename": "AttributeError",
     "evalue": "'tuple' object has no attribute 'append'",
     "output_type": "error",
     "traceback": [
      "\u001b[0;31m---------------------------------------------------------------------------\u001b[0m",
      "\u001b[0;31mAttributeError\u001b[0m                            Traceback (most recent call last)",
      "Cell \u001b[0;32mIn[30], line 2\u001b[0m\n\u001b[1;32m      1\u001b[0m Tuple \u001b[38;5;241m=\u001b[39m (\u001b[38;5;241m1\u001b[39m,\u001b[38;5;241m2\u001b[39m,\u001b[38;5;241m3\u001b[39m,\u001b[38;5;241m4\u001b[39m)\n\u001b[0;32m----> 2\u001b[0m \u001b[43mTuple\u001b[49m\u001b[38;5;241;43m.\u001b[39;49m\u001b[43mappend\u001b[49m(\u001b[38;5;241m5\u001b[39m)\n",
      "\u001b[0;31mAttributeError\u001b[0m: 'tuple' object has no attribute 'append'"
     ]
    }
   ],
   "source": [
    "Tuple = (1,2,3,4)\n",
    "Tuple.append(5)"
   ]
  },
  {
   "cell_type": "code",
   "execution_count": null,
   "id": "6b41d2c8-2675-4872-bb48-981b5773ea71",
   "metadata": {},
   "outputs": [],
   "source": [
    "#As the error says, we cannot alter tuples. Hence tuples are immutable"
   ]
  },
  {
   "cell_type": "code",
   "execution_count": null,
   "id": "b519cf0c-681d-401b-b0f9-7dcee9b060b8",
   "metadata": {},
   "outputs": [],
   "source": [
    "\"\"\"\n",
    "1.Mutable Objects Can be changed after creation while Immutable Objects Cannot be changed after creation.\n",
    "2.List, Dictionary, Set are mutable objects, Integer, Float, String, Tuple are immutable.\n",
    "3.Mutable objects are used when you need to modify content and immutable are When you need constant, unchangeable content."
   ]
  },
  {
   "cell_type": "code",
   "execution_count": null,
   "id": "03527689-26fc-4846-8e59-f4e388a85948",
   "metadata": {},
   "outputs": [],
   "source": [
    "\"\"\"Questiion 4 - Discuss the diffetent types of operators in provide examples of how they are used?\n",
    "\n",
    "Opetaors are special symbol or keywords that are used to perform operations on variables and values.\n",
    "1. Arithmetic Operators ,\n",
    "+ : Addition\n",
    "- : Subtraction\n",
    "* : Multiplication\n",
    "/ : Division\n",
    "% : Modulus\n",
    "These operators are used to perform basic mathematical operations.\n",
    "\n"
   ]
  },
  {
   "cell_type": "code",
   "execution_count": null,
   "id": "a7186772-5d3b-4bef-9d95-fa7e07697900",
   "metadata": {},
   "outputs": [],
   "source": [
    "a = 5\n",
    "b = 5"
   ]
  },
  {
   "cell_type": "code",
   "execution_count": null,
   "id": "6f3659ed-94af-4ce3-b70c-8d0e63b6631a",
   "metadata": {},
   "outputs": [],
   "source": [
    "a + b   # Output: 10\n",
    "a - b   # Output: 0\n",
    "a * b   # Output: 325\n",
    "a / b   # Output: 1\n",
    "a % b   # Output: 0\n"
   ]
  },
  {
   "cell_type": "code",
   "execution_count": null,
   "id": "f90982b1-1851-46fd-ab0f-e8ebb46308e4",
   "metadata": {},
   "outputs": [],
   "source": [
    "\"\"\"2. Comparison Operators \n",
    "== : Equal\n",
    "!= : Not equal\n",
    "> : Greater than\n",
    "< : Less than\n",
    ">= : Greater than or equal to\n",
    "<= : Less than or equal to\n",
    "These operators are used to assign values to variables.\n",
    "\n",
    "\"\"\""
   ]
  },
  {
   "cell_type": "code",
   "execution_count": 45,
   "id": "3302a2e5-940e-4116-92d9-187f479f0ffc",
   "metadata": {},
   "outputs": [
    {
     "data": {
      "text/plain": [
       "True"
      ]
     },
     "execution_count": 45,
     "metadata": {},
     "output_type": "execute_result"
    }
   ],
   "source": [
    "a = 5\n",
    "a == b"
   ]
  },
  {
   "cell_type": "code",
   "execution_count": null,
   "id": "e7e6db11-6dab-4318-a045-350e11169dfc",
   "metadata": {},
   "outputs": [],
   "source": [
    "\"\"\"3.Logical Operators\n",
    "and : Logical AND\n",
    "or : Logical OR\n",
    "not : Logical NOT\n",
    "These operators are used to perform logical operations.\n",
    "\"\"\"\n"
   ]
  },
  {
   "cell_type": "code",
   "execution_count": null,
   "id": "1dfe5283-b592-479b-a69d-e25c7fce80cd",
   "metadata": {},
   "outputs": [],
   "source": [
    "\"\"\"a = True\n",
    "b = False\n",
    "print(a and b)  # Output: False\n",
    "print(a or b)   # Output: True\n",
    "print(not a)    # Output: False\n",
    "\"\"\""
   ]
  },
  {
   "cell_type": "code",
   "execution_count": null,
   "id": "05a2c6d8-2a1f-486e-bb81-4d6abe721562",
   "metadata": {},
   "outputs": [],
   "source": [
    "\"\"\"4.Bitwise Operators\n",
    "& : AND\n",
    "| : OR\n",
    "These operators are used to perform bit-level operations.\n",
    "\"\"\"\n"
   ]
  },
  {
   "cell_type": "code",
   "execution_count": 46,
   "id": "d2e6b900-396d-4b96-baf0-8c11ec409f7c",
   "metadata": {},
   "outputs": [
    {
     "data": {
      "text/plain": [
       "5"
      ]
     },
     "execution_count": 46,
     "metadata": {},
     "output_type": "execute_result"
    }
   ],
   "source": [
    "a and b"
   ]
  },
  {
   "cell_type": "code",
   "execution_count": 47,
   "id": "62d8a1e1-3b6c-409f-bd63-b20161c29542",
   "metadata": {},
   "outputs": [
    {
     "data": {
      "text/plain": [
       "5"
      ]
     },
     "execution_count": 47,
     "metadata": {},
     "output_type": "execute_result"
    }
   ],
   "source": [
    "a or b"
   ]
  },
  {
   "cell_type": "code",
   "execution_count": null,
   "id": "0f089d87-dfcc-4ca5-be0b-b81c91a76268",
   "metadata": {},
   "outputs": [],
   "source": [
    "\"\"\"5.Membership Operators\n",
    "in : Evaluates to True if it finds a variable in the specified sequence and False otherwise.\n",
    "not in : Evaluates to True if it does not find a variable in the specified sequence and False otherwise.\n",
    "These operators are used to test if a sequence is presented in an object.\"\"\""
   ]
  },
  {
   "cell_type": "code",
   "execution_count": 48,
   "id": "c1590a78-3c70-4e51-8404-b209abfd3ce1",
   "metadata": {},
   "outputs": [],
   "source": [
    "a = [\"Ajay\",\"Vijay\",\"Rajesh\",\"Ramesh\""
   ]
  },
  {
   "cell_type": "code",
   "execution_count": 49,
   "id": "3ef82dca-f11f-485d-87b2-f4d8bae6da5f",
   "metadata": {},
   "outputs": [
    {
     "data": {
      "text/plain": [
       "True"
      ]
     },
     "execution_count": 49,
     "metadata": {},
     "output_type": "execute_result"
    }
   ],
   "source": [
    "\"Ramesh\" in a"
   ]
  },
  {
   "cell_type": "code",
   "execution_count": 50,
   "id": "1c2ea15f-4f81-444a-84bf-f363d2d9e5d2",
   "metadata": {},
   "outputs": [
    {
     "data": {
      "text/plain": [
       "False"
      ]
     },
     "execution_count": 50,
     "metadata": {},
     "output_type": "execute_result"
    }
   ],
   "source": [
    "\"Ajay\" not in a"
   ]
  },
  {
   "cell_type": "code",
   "execution_count": null,
   "id": "a01d21f1-4b36-428e-b595-13f442cad44c",
   "metadata": {},
   "outputs": [],
   "source": [
    "\"\"\"6.Identity Operators\n",
    "is : Evaluates to True if the variables on either side of the operator point to the same object and False otherwise.\n",
    "is not : Evaluates to False if the variables on either side of the operator point to the same object and True otherwise.\n",
    "These operators are used to compare the memory locations of two objects.\"\"\"\n",
    "\n"
   ]
  },
  {
   "cell_type": "code",
   "execution_count": 52,
   "id": "6fc8c47a-5e18-4c70-bebc-ae533ac99060",
   "metadata": {},
   "outputs": [],
   "source": [
    "a = [\"Ram\",\"Shyam\",\"Hari\"]\n",
    "b = a\n",
    "c = [\"Ajay\",\"Vijay\",\"Rajesh\"]"
   ]
  },
  {
   "cell_type": "code",
   "execution_count": 53,
   "id": "1c30f078-8c5b-449b-aabb-d3fd24ef2ac8",
   "metadata": {},
   "outputs": [
    {
     "data": {
      "text/plain": [
       "True"
      ]
     },
     "execution_count": 53,
     "metadata": {},
     "output_type": "execute_result"
    }
   ],
   "source": [
    "a is b"
   ]
  },
  {
   "cell_type": "code",
   "execution_count": 54,
   "id": "f4117fec-31c8-4e31-831d-c98fbe1ee680",
   "metadata": {},
   "outputs": [
    {
     "data": {
      "text/plain": [
       "True"
      ]
     },
     "execution_count": 54,
     "metadata": {},
     "output_type": "execute_result"
    }
   ],
   "source": [
    "b is not c"
   ]
  },
  {
   "cell_type": "code",
   "execution_count": null,
   "id": "b2865514-d60c-436d-8506-a9d58d85c6a7",
   "metadata": {},
   "outputs": [],
   "source": [
    "\"\"\"7.Assignment Operators\n",
    "= : Assign\n",
    "These operators are used to assign values to variables.\"\"\""
   ]
  },
  {
   "cell_type": "code",
   "execution_count": 55,
   "id": "82d44e14-5fc4-4f11-b1f0-16ae0629f4bd",
   "metadata": {},
   "outputs": [],
   "source": [
    "a = 5\n",
    "b = a"
   ]
  },
  {
   "cell_type": "code",
   "execution_count": 59,
   "id": "d6032a18-0339-46f1-b061-0c0af7fa4000",
   "metadata": {},
   "outputs": [
    {
     "data": {
      "text/plain": [
       "5"
      ]
     },
     "execution_count": 59,
     "metadata": {},
     "output_type": "execute_result"
    }
   ],
   "source": [
    "b"
   ]
  },
  {
   "cell_type": "code",
   "execution_count": 60,
   "id": "010299d2-8942-4562-a422-8f2eb2fe6ff3",
   "metadata": {},
   "outputs": [],
   "source": [
    "\"\"\"Question - 5 explain the concept of type casting in Python with examples.\n",
    "Answer - In Python, type casting is the process of changing one data type into another. \n",
    "When you need to execute actions that necessitate the compatibility of various data types, this is helpful. \n",
    "Implicit and explicit type casting are the two varieties.\n",
    "\n",
    "Python performs implicit type casting, commonly referred to as coercion, automatically. \n",
    "Python automatically changes one data type to another by implicit type casting.\n",
    "\"\"\"\n",
    "a = 10     \n",
    "b = 3.5     "
   ]
  },
  {
   "cell_type": "code",
   "execution_count": 61,
   "id": "aaccb80f-32ad-430d-a454-f1e8d1925aab",
   "metadata": {},
   "outputs": [
    {
     "data": {
      "text/plain": [
       "int"
      ]
     },
     "execution_count": 61,
     "metadata": {},
     "output_type": "execute_result"
    }
   ],
   "source": [
    "type(a)"
   ]
  },
  {
   "cell_type": "code",
   "execution_count": 62,
   "id": "e96c46e7-9353-42ba-b05a-c2026b545b3c",
   "metadata": {},
   "outputs": [
    {
     "data": {
      "text/plain": [
       "float"
      ]
     },
     "execution_count": 62,
     "metadata": {},
     "output_type": "execute_result"
    }
   ],
   "source": [
    "type(b)"
   ]
  },
  {
   "cell_type": "code",
   "execution_count": 64,
   "id": "f1dd773e-db9f-439a-8df7-6ad433e82033",
   "metadata": {},
   "outputs": [],
   "source": [
    "c = a+b"
   ]
  },
  {
   "cell_type": "code",
   "execution_count": 65,
   "id": "424edc75-2910-4704-89e5-fb537e780349",
   "metadata": {},
   "outputs": [
    {
     "data": {
      "text/plain": [
       "13.5"
      ]
     },
     "execution_count": 65,
     "metadata": {},
     "output_type": "execute_result"
    }
   ],
   "source": [
    "c"
   ]
  },
  {
   "cell_type": "code",
   "execution_count": 66,
   "id": "662368f5-2ab5-423d-9cca-00b9c66ec346",
   "metadata": {},
   "outputs": [
    {
     "data": {
      "text/plain": [
       "float"
      ]
     },
     "execution_count": 66,
     "metadata": {},
     "output_type": "execute_result"
    }
   ],
   "source": [
    "type(c)"
   ]
  },
  {
   "cell_type": "code",
   "execution_count": 67,
   "id": "447abdf2-9b4f-4ae2-9cbb-b659f6f3e74e",
   "metadata": {},
   "outputs": [],
   "source": [
    "\"\"\"A programmer can manually execute explicit type casting, commonly referred to as type conversion, \n",
    "by utilizing built-in functions. The type casting functions int(), float(), str(), and list() are frequently used.\"\"\"\n",
    "\n",
    "a = 10\n"
   ]
  },
  {
   "cell_type": "code",
   "execution_count": 68,
   "id": "ed8caa61-7893-4478-9425-8d6dfe153401",
   "metadata": {},
   "outputs": [
    {
     "data": {
      "text/plain": [
       "int"
      ]
     },
     "execution_count": 68,
     "metadata": {},
     "output_type": "execute_result"
    }
   ],
   "source": [
    "type(a)"
   ]
  },
  {
   "cell_type": "code",
   "execution_count": 11,
   "id": "d953657a-9862-429e-a8bf-ea04617b39f5",
   "metadata": {},
   "outputs": [],
   "source": [
    "a = \"10\"\n",
    "b = int(a)"
   ]
  },
  {
   "cell_type": "code",
   "execution_count": 12,
   "id": "585e13f3-cf6e-41db-8540-bf5409232cc1",
   "metadata": {},
   "outputs": [
    {
     "data": {
      "text/plain": [
       "int"
      ]
     },
     "execution_count": 12,
     "metadata": {},
     "output_type": "execute_result"
    }
   ],
   "source": [
    "type(b)"
   ]
  },
  {
   "cell_type": "code",
   "execution_count": 80,
   "id": "bf4bf47c-6153-4ec9-b756-4eb7a6a65408",
   "metadata": {},
   "outputs": [
    {
     "name": "stdin",
     "output_type": "stream",
     "text": [
      "Enter your age:  25\n"
     ]
    },
    {
     "name": "stdout",
     "output_type": "stream",
     "text": [
      "You get a regular discount\n"
     ]
    }
   ],
   "source": [
    "\"\"\"Question - 6 How do conditional state\u0013ents work in Python? Illustrate with examples \n",
    "\n",
    ":In Python, conditional statements let you run particular code blocks according to the true or false status of a condition.\n",
    "If, elif, and else are the three main conditional statements in Python.A programmer can manually execute explicit type casting, \n",
    "commonly referred to as type conversion, by utilizing built-in functions. The type casting functions int(), float(), str(), and list() are frequently used.\n",
    "\"\"\"\n",
    "age = int(input(\"Enter your age: \"))\n",
    "\n",
    "if age >= 65:\n",
    "    print(\"You are a senior citizen, you get a special discount\")\n",
    "elif age >= 18:\n",
    "    print(\"You get a regular discount\")\n",
    "else:\n",
    "    print(\"Discount is only for adults\")\n",
    "\n",
    "            "
   ]
  },
  {
   "cell_type": "code",
   "execution_count": null,
   "id": "775c55a7-c5fe-42c9-a4de-f3851f5a2dd8",
   "metadata": {},
   "outputs": [],
   "source": [
    "\"\"\"Question - 7 Describe the different types of loops in Python and their use cases with examples.\n",
    "Ans - Python loops are used to repeatedly run a piece of code until a predetermined condition is satisfied. \n",
    "For loops and while loops are the two main loop types that Python offers. \n",
    "To further regulate the flow of loops, Python offers control statements like break, continue, and pass.\n",
    "\n",
    "1.While Loop - As long as a given condition is true, a block of code is executed by the while loop. \n",
    "2.For Loop - Iterating over a sequence (such a list, tuple, dictionary, set, or string) or any other iterable object is done with the for loop. \n",
    "\"\"\""
   ]
  },
  {
   "cell_type": "code",
   "execution_count": 86,
   "id": "f739f18b-14dd-4c21-90b0-e5038e799ad0",
   "metadata": {},
   "outputs": [
    {
     "name": "stdout",
     "output_type": "stream",
     "text": [
      "h\n",
      "e\n",
      "l\n",
      "l\n",
      "o\n"
     ]
    }
   ],
   "source": [
    "for letter in \"hello\":\n",
    "    print(letter)"
   ]
  },
  {
   "cell_type": "code",
   "execution_count": 87,
   "id": "c5bf7143-080f-4343-8619-a649c0d8f97e",
   "metadata": {},
   "outputs": [
    {
     "name": "stdout",
     "output_type": "stream",
     "text": [
      "0\n",
      "1\n",
      "2\n",
      "3\n",
      "4\n",
      "5\n",
      "6\n",
      "7\n",
      "8\n",
      "9\n"
     ]
    }
   ],
   "source": [
    "for i in range(10):\n",
    "    print(i)\n"
   ]
  },
  {
   "cell_type": "code",
   "execution_count": 1,
   "id": "b8d036fa-c7be-4909-a4b8-9832b08975af",
   "metadata": {},
   "outputs": [
    {
     "name": "stdout",
     "output_type": "stream",
     "text": [
      "0\n",
      "1\n",
      "2\n",
      "3\n",
      "4\n"
     ]
    }
   ],
   "source": [
    "count = 0\n",
    "while count < 5:\n",
    "    print(count)\n",
    "    count += 1\n"
   ]
  },
  {
   "cell_type": "code",
   "execution_count": 2,
   "id": "524c8adc-22dd-4382-976a-1b98ea10551c",
   "metadata": {},
   "outputs": [
    {
     "name": "stdout",
     "output_type": "stream",
     "text": [
      "0\n",
      "1\n",
      "2\n",
      "3\n",
      "4\n",
      "5\n",
      "6\n",
      "7\n"
     ]
    }
   ],
   "source": [
    "for i in range(15):\n",
    "    if i == 8:\n",
    "        break\n",
    "    print(i)\n"
   ]
  },
  {
   "cell_type": "code",
   "execution_count": 8,
   "id": "e406b1ed-9929-4424-b264-f1d7bbf5d3a5",
   "metadata": {},
   "outputs": [
    {
     "name": "stdout",
     "output_type": "stream",
     "text": [
      "0\n",
      "1\n",
      "3\n",
      "4\n"
     ]
    }
   ],
   "source": [
    "#The continue statement skips the current iteration and moves to the next iteration of the loop.\n",
    "for i in range(5):\n",
    "    if i == 2:\n",
    "        continue \n",
    "    print(i)\n"
   ]
  },
  {
   "cell_type": "code",
   "execution_count": null,
   "id": "bb7be350-6caf-4d18-b954-b44041028f7f",
   "metadata": {},
   "outputs": [
    {
     "name": "stdout",
     "output_type": "stream",
     "text": [
      "0\n",
      "1\n",
      "2\n",
      "3\n",
      "4\n",
      "5\n"
     ]
    }
   ],
   "source": [
    "#The break statement is used to exit the loop prematurely when a certain condition is met.\n",
    "for i in range(18):\n",
    "    if i == 6:\n",
    "        break\n",
    "    print(i)\n"
   ]
  }
 ],
 "metadata": {
  "kernelspec": {
   "display_name": "Python 3 (ipykernel)",
   "language": "python",
   "name": "python3"
  },
  "language_info": {
   "codemirror_mode": {
    "name": "ipython",
    "version": 3
   },
   "file_extension": ".py",
   "mimetype": "text/x-python",
   "name": "python",
   "nbconvert_exporter": "python",
   "pygments_lexer": "ipython3",
   "version": "3.10.8"
  }
 },
 "nbformat": 4,
 "nbformat_minor": 5
}

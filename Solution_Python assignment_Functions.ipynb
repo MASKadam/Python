{
  "nbformat": 4,
  "nbformat_minor": 0,
  "metadata": {
    "colab": {
      "provenance": []
    },
    "kernelspec": {
      "name": "python3",
      "display_name": "Python 3"
    },
    "language_info": {
      "name": "python"
    }
  },
  "cells": [
    {
      "cell_type": "code",
      "source": [
        "### 1. Difference Between a Function and a Method\n",
        "\"\"\" **Function**: A function is a block of code that is defined to perform a specific task.\n",
        " It can be called independently of any object. In Python, functions are defined using the `def` keyword.\"\"\""
      ],
      "metadata": {
        "id": "xrKz0obGkDur"
      },
      "execution_count": null,
      "outputs": []
    },
    {
      "cell_type": "code",
      "source": [
        "  def add(a, b):\n",
        "    return a + b"
      ],
      "metadata": {
        "id": "MROFM6ZfmJ2v"
      },
      "execution_count": 9,
      "outputs": []
    },
    {
      "cell_type": "code",
      "source": [
        "#Method**: A method is a function that is associated with an object (usually defined in a class). It is called on an instance of the class and can access the instance's attributes and other methods.\n",
        "\n",
        "  #Example:\n",
        "\n",
        "  class Calculator:\n",
        "      def add(self, a, b):\n",
        "          return a + b\n",
        "\n",
        "  calc = Calculator()\n",
        "  calc.add(5, 3)  # Calling a method"
      ],
      "metadata": {
        "id": "o8_ZqXH_l8ny"
      },
      "execution_count": null,
      "outputs": []
    },
    {
      "cell_type": "code",
      "source": [
        "### 2. Function Arguments and Parameters\n",
        "- **Parameters**: These are variables listed inside the parentheses in the function definition. They act as placeholders for the values that will be passed to the function.\n",
        "\n",
        "  Example:\n",
        "\n",
        "  def greet(name):  # 'name' is a parameter\n",
        "      print(f\"Hello, {name}!\")\n",
        "  ```\n",
        "\n",
        "- **Arguments**: These are the actual values you pass to the function when you call it.\n",
        "\n",
        "  Example:\n",
        "\n",
        "  greet(\"Alice\")  # \"Alice\" is an argument\n",
        "  ```\n",
        "\n"
      ],
      "metadata": {
        "id": "peEYtcrJkveC"
      },
      "execution_count": null,
      "outputs": []
    },
    {
      "cell_type": "code",
      "source": [
        "### 3. Ways to Define and Call a Function\n",
        "- **Defining a function**: Use the `def` keyword followed by the function name and parentheses containing parameters.\n",
        "\n",
        "  #Example:\n",
        "\n",
        "  def say_hello():\n",
        "      print(\"Hello!\")\n",
        "\n",
        "\n",
        "- **Calling a function**: Use the function name followed by parentheses. If the function has parameters, pass the arguments inside the parentheses.\n",
        "\n",
        "  #Example:\n",
        "\n",
        "  say_hello()  # Calling the function\n",
        "  ```\n",
        "\n",
        "- **Anonymous functions (Lambda functions)**: Defined using the `lambda` keyword for simple operations.\n",
        "\n",
        "  #Example:\n",
        "\n",
        "  square = lambda x: x * x\n",
        "  print(square(5))  # Calling a lambda function\n",
        ""
      ],
      "metadata": {
        "id": "hrpdZ_OJkyBy"
      },
      "execution_count": null,
      "outputs": []
    },
    {
      "cell_type": "code",
      "source": [
        "### 4. Purpose of the `return` Statement\n",
        "The `return` statement is used to exit a function and send a value back to the caller. If no return statement is used, the function returns `None` by default.\n",
        "\n",
        "#Example:\n",
        "\n",
        "def add(a, b):\n",
        "    return a + b\n",
        "\n",
        "result = add(2, 3)  # result will be 5`"
      ],
      "metadata": {
        "id": "TGCXECfUk1Iv"
      },
      "execution_count": null,
      "outputs": []
    },
    {
      "cell_type": "code",
      "source": [
        "### 5. Iterators vs. Iterables\n",
        "- **Iterable**: An object that can return its elements one at a time, such as lists, tuples, and strings. An iterable has an `__iter__()` method that returns an iterator.\n",
        "\n",
        "- **Iterator**: An object that implements the iterator protocol, which consists of the `__iter__()` method and a `__next__()` method. An iterator keeps track of its current state and knows how to retrieve the next item.\n",
        "\n",
        "#Example:\n",
        "\n",
        "my_list = [1, 2, 3]\n",
        "iterator = iter(my_list)  # Creates an iterator\n",
        "\n",
        "print(next(iterator))  # Outputs: 1\n",
        "print(next(iterator))  # Outputs: 2"
      ],
      "metadata": {
        "id": "aNeQZoSBk9cp"
      },
      "execution_count": null,
      "outputs": []
    },
    {
      "cell_type": "code",
      "source": [
        "### 6. Concept of Generators\n",
        "Generators are a special type of iterator defined using the `yield` keyword instead of `return`. They allow you to iterate over a sequence of values without storing them all in memory at once.\n",
        "\n",
        "#Example:\n",
        "\n",
        "def count_up_to(n):\n",
        "    count = 1\n",
        "    while count <= n:\n",
        "        yield count\n",
        "        count += 1\n",
        "\n",
        "for number in count_up_to(5):\n",
        "    print(number)  # Outputs: 1 2 3 4 5"
      ],
      "metadata": {
        "id": "2EAp3i0Gk-QR"
      },
      "execution_count": null,
      "outputs": []
    },
    {
      "cell_type": "code",
      "source": [
        "### 7. Advantages of Using Generators\n",
        "- **Memory Efficiency**: Generators produce items one at a time and only when requested, which is more memory-efficient than storing large sequences in memory.\n",
        "- **Represent Infinite Sequences**: Generators can represent infinite sequences (like counting up indefinitely) without running out of memory.\n",
        "- **Cleaner Code**: They often result in cleaner and more readable code, especially for complex iterations.\n",
        "\n"
      ],
      "metadata": {
        "id": "D2YXqUgXlA55"
      },
      "execution_count": null,
      "outputs": []
    },
    {
      "cell_type": "code",
      "source": [
        "### 8. Lambda Functions\n",
        "Lambda functions are small anonymous functions defined with the `lambda` keyword. They can have any number of parameters but only one expression. They are often used for short, throwaway functions where using `def` would be overkill.\n",
        "\n",
        "#Example:\n",
        "\n",
        "multiply = lambda x, y: x * y\n",
        "print(multiply(2, 3))  # Outputs: 6"
      ],
      "metadata": {
        "id": "XK-618falOky"
      },
      "execution_count": null,
      "outputs": []
    },
    {
      "cell_type": "code",
      "source": [
        "### 9. Purpose and Usage of the `map()` Function\n",
        "The `map()` function applies a specified function to each item of an iterable (like a list) and returns a map object (which is an iterator). It is commonly used for transforming items in an iterable.\n",
        "\n",
        "#Example:\n",
        "\n",
        "squared = map(lambda x: x ** 2, [1, 2, 3, 4])\n",
        "print(list(squared))  # Outputs: [1, 4, 9, 16]"
      ],
      "metadata": {
        "id": "0hfTO5o5lDXu"
      },
      "execution_count": null,
      "outputs": []
    },
    {
      "cell_type": "code",
      "source": [
        "### 10. Differences Between `map()`, `reduce()`, and `filter()`\n",
        "- **`map(function, iterable)`**: Applies the function to every item of the iterable and returns a new iterable (map object) with the results.\n",
        "\n",
        "  Example:\n",
        "\n",
        "  doubled = map(lambda x: x * 2, [1, 2, 3])\n",
        "  ```\n",
        "\n",
        "- **`filter(function, iterable)`**: Filters items in the iterable by applying a function that returns `True` or `False`. It returns an iterable of the items that returned `True`.\n",
        "\n",
        "  Example:\n",
        "\n",
        "  evens = filter(lambda x: x % 2 == 0, [1, 2, 3, 4])\n",
        "  ```\n",
        "\n",
        "- **`reduce(function, iterable)`**: Applies a rolling computation to sequential pairs of values in the iterable. It requires importing from `functools`.\n",
        "\n",
        "  #Example:\n",
        "\n",
        "  from functools import reduce\n",
        "  total = reduce(lambda x, y: x + y, [1, 2, 3, 4])  # Sums the list"
      ],
      "metadata": {
        "id": "G0-Zdh_alSmi"
      },
      "execution_count": null,
      "outputs": []
    },
    {
      "cell_type": "code",
      "source": [
        "#Practical Questions:"
      ],
      "metadata": {
        "id": "NWUXRVDGmmr6"
      },
      "execution_count": null,
      "outputs": []
    },
    {
      "cell_type": "code",
      "source": [
        "#1. Write a Python function that takes a list of numbers as input and returns the sum of all even numbers in the list.\n",
        "def sum_of_evens(numbers):\n",
        "    return sum(num for num in numbers if num % 2 == 0)\n"
      ],
      "metadata": {
        "id": "BAjTmGqAnFRZ"
      },
      "execution_count": 10,
      "outputs": []
    },
    {
      "cell_type": "code",
      "source": [
        "numbers = [1, 2, 3, 4, 5, 6, 7, 8, 9, 10]\n",
        "result = sum_of_evens(numbers)\n",
        "print(result)\n"
      ],
      "metadata": {
        "colab": {
          "base_uri": "https://localhost:8080/"
        },
        "id": "FRAIsH1wnXnC",
        "outputId": "7d31bd7b-f6a4-4bff-9827-367ae55f0bab"
      },
      "execution_count": 11,
      "outputs": [
        {
          "output_type": "stream",
          "name": "stdout",
          "text": [
            "30\n"
          ]
        }
      ]
    },
    {
      "cell_type": "code",
      "source": [
        "#2. Create a Python function that accepts a string and returns the reverse of that string.\n",
        "\n",
        "def reverse_string(s):\n",
        "    return s[::-1]\n"
      ],
      "metadata": {
        "id": "syALowfOnZfn"
      },
      "execution_count": 13,
      "outputs": []
    },
    {
      "cell_type": "code",
      "source": [
        "input_string = \"Hello, World!\"\n",
        "reversed_string = reverse_string(input_string)\n",
        "print(reversed_string)\n"
      ],
      "metadata": {
        "colab": {
          "base_uri": "https://localhost:8080/"
        },
        "id": "MzSiO3A9oLnP",
        "outputId": "c166f7c4-af6d-49f9-b1e9-b58a8fe1c8aa"
      },
      "execution_count": 14,
      "outputs": [
        {
          "output_type": "stream",
          "name": "stdout",
          "text": [
            "!dlroW ,olleH\n"
          ]
        }
      ]
    },
    {
      "cell_type": "code",
      "source": [
        "#3. Implement a Python function that takes a list of integers and returns a new list containing the squares of each number.\n",
        "def square_numbers(numbers):\n",
        "    return [num ** 2 for num in numbers]\n"
      ],
      "metadata": {
        "id": "Jw6H87TUoRl3"
      },
      "execution_count": 15,
      "outputs": []
    },
    {
      "cell_type": "code",
      "source": [
        "numbers = [1, 2, 3, 4, 5]\n",
        "squared = square_numbers(numbers)\n",
        "print(squared)\n"
      ],
      "metadata": {
        "colab": {
          "base_uri": "https://localhost:8080/"
        },
        "id": "JUMn9e-coZOP",
        "outputId": "adb6e3b7-b516-4d6a-8bca-3bb26664937d"
      },
      "execution_count": 16,
      "outputs": [
        {
          "output_type": "stream",
          "name": "stdout",
          "text": [
            "[1, 4, 9, 16, 25]\n"
          ]
        }
      ]
    },
    {
      "cell_type": "code",
      "source": [
        "#4. Write a Python function that checks if a given number is prime or not from 1 to 200.\n",
        "def is_prime(num):\n",
        "    if num < 2:\n",
        "        return False\n",
        "    for i in range(2, int(num**0.5) + 1):\n",
        "        if num % i == 0:\n",
        "            return False\n",
        "    return True\n",
        "\n",
        "# Check prime numbers from 1 to 200\n",
        "primes = [n for n in range(1, 201) if is_prime(n)]\n",
        "\n",
        "# Print the list of prime numbers\n",
        "print(primes)\n"
      ],
      "metadata": {
        "colab": {
          "base_uri": "https://localhost:8080/"
        },
        "id": "yKy8cZ84omSG",
        "outputId": "13b9c0a6-8a95-483c-f99f-eab26752f764"
      },
      "execution_count": 17,
      "outputs": [
        {
          "output_type": "stream",
          "name": "stdout",
          "text": [
            "[2, 3, 5, 7, 11, 13, 17, 19, 23, 29, 31, 37, 41, 43, 47, 53, 59, 61, 67, 71, 73, 79, 83, 89, 97, 101, 103, 107, 109, 113, 127, 131, 137, 139, 149, 151, 157, 163, 167, 173, 179, 181, 191, 193, 197, 199]\n"
          ]
        }
      ]
    },
    {
      "cell_type": "code",
      "source": [
        "#5. Create an iterator class in Python that generates the Fibonacci sequence up to a specified number of terms.\n",
        "class FibonacciIterator:\n",
        "    def __init__(self, terms):\n",
        "        self.terms = terms\n",
        "        self.a, self.b = 0, 1\n",
        "        self.count = 0\n",
        "\n",
        "    def __iter__(self):\n",
        "        return self\n",
        "\n",
        "    def __next__(self):\n",
        "        if self.count < self.terms:\n",
        "            fib_number = self.a\n",
        "            self.a, self.b = self.b, self.a + self.b\n",
        "            self.count += 1\n",
        "            return fib_number\n",
        "        else:\n",
        "            raise StopIteration\n"
      ],
      "metadata": {
        "id": "VKQyLYwvo1bX"
      },
      "execution_count": 19,
      "outputs": []
    },
    {
      "cell_type": "code",
      "source": [
        "# Define the number of terms you want in the Fibonacci sequence\n",
        "n = 10\n",
        "\n",
        "# Create an instance of the FibonacciIterator with the desired number of terms\n",
        "fibonacci_iterator = FibonacciIterator(n)\n",
        "\n",
        "# Iterate through the Fibonacci sequence using a for loop\n",
        "for fib_number in fibonacci_iterator:\n",
        "    print(fib_number)\n"
      ],
      "metadata": {
        "colab": {
          "base_uri": "https://localhost:8080/"
        },
        "id": "27sGUa-TpYFO",
        "outputId": "55ccb226-8c56-49f6-e5b9-1ff0c57971f6"
      },
      "execution_count": 20,
      "outputs": [
        {
          "output_type": "stream",
          "name": "stdout",
          "text": [
            "0\n",
            "1\n",
            "1\n",
            "2\n",
            "3\n",
            "5\n",
            "8\n",
            "13\n",
            "21\n",
            "34\n"
          ]
        }
      ]
    },
    {
      "cell_type": "code",
      "source": [
        "#6. Write a generator function in Python that yields the powers of 2 up to a given exponent.\n",
        "def powers_of_two(exponent):\n",
        "    for i in range(exponent + 1):\n",
        "        yield 2 ** i\n",
        "\n"
      ],
      "metadata": {
        "id": "PAYFT9OnpoUq"
      },
      "execution_count": 21,
      "outputs": []
    },
    {
      "cell_type": "code",
      "source": [
        "for power in powers_of_two(5):\n",
        "    print(power)\n"
      ],
      "metadata": {
        "colab": {
          "base_uri": "https://localhost:8080/"
        },
        "id": "8IxWbTGUqBfq",
        "outputId": "007281ec-0651-4ae1-ce69-90d9664cde06"
      },
      "execution_count": 22,
      "outputs": [
        {
          "output_type": "stream",
          "name": "stdout",
          "text": [
            "1\n",
            "2\n",
            "4\n",
            "8\n",
            "16\n",
            "32\n"
          ]
        }
      ]
    },
    {
      "cell_type": "code",
      "source": [
        "#7. Implement a generator function that reads a file line by line and yields each line as a string.\n",
        "def read_file_line_by_line(filename):\n",
        "    with open(filename, 'r') as file:\n",
        "        for line in file:\n",
        "            yield line.strip()\n"
      ],
      "metadata": {
        "id": "A8IPBocRqDCn"
      },
      "execution_count": 23,
      "outputs": []
    },
    {
      "cell_type": "code",
      "source": [
        "#8. Use a lambda function in Python to sort a list of tuples based on the second element of each tuple.\n",
        "tuples_list = [(1, 'apple'), (2, 'banana'), (3, 'cherry')]\n",
        "sorted_tuples = sorted(tuples_list, key=lambda x: x[1])\n",
        "print(sorted_tuples)"
      ],
      "metadata": {
        "colab": {
          "base_uri": "https://localhost:8080/"
        },
        "id": "_j02Le4Nqqe3",
        "outputId": "8beb0df6-ee66-425d-cc78-c5b483f53032"
      },
      "execution_count": 26,
      "outputs": [
        {
          "output_type": "stream",
          "name": "stdout",
          "text": [
            "[(1, 'apple'), (2, 'banana'), (3, 'cherry')]\n"
          ]
        }
      ]
    },
    {
      "cell_type": "code",
      "source": [
        "#9. Write a Python program that uses `map()` to convert a list of temperatures from Celsius to Fahrenheit.\n",
        "def celsius_to_fahrenheit(celsius):\n",
        "    return (celsius * 9/5) + 32\n",
        "\n",
        "celsius_temps = [0, 20, 37, 100]\n",
        "fahrenheit_temps = list(map(celsius_to_fahrenheit, celsius_temps))\n",
        "print(fahrenheit_temps)"
      ],
      "metadata": {
        "colab": {
          "base_uri": "https://localhost:8080/"
        },
        "id": "et5Cj8RmrIHn",
        "outputId": "1f9c63c9-0339-495a-c105-d3a7806e48d2"
      },
      "execution_count": 27,
      "outputs": [
        {
          "output_type": "stream",
          "name": "stdout",
          "text": [
            "[32.0, 68.0, 98.6, 212.0]\n"
          ]
        }
      ]
    },
    {
      "cell_type": "code",
      "source": [
        "#10. Create a Python program that uses `filter()` to remove all the vowels from a given string.\n",
        "def remove_vowels(s):\n",
        "    vowels = \"aeiouAEIOU\"\n",
        "    return ''.join(filter(lambda x: x not in vowels, s))\n",
        "\n",
        "input_string = \"Hello World\"\n",
        "result_string = remove_vowels(input_string)\n",
        "print(result_string)"
      ],
      "metadata": {
        "colab": {
          "base_uri": "https://localhost:8080/"
        },
        "id": "Oi_VpXGTreTv",
        "outputId": "6d0a2176-eb11-4a73-9e95-e4a2de7fcf94"
      },
      "execution_count": 28,
      "outputs": [
        {
          "output_type": "stream",
          "name": "stdout",
          "text": [
            "Hll Wrld\n"
          ]
        }
      ]
    },
    {
      "cell_type": "code",
      "source": [
        "  #11) Imagine an accounting routine used in a book shop. It works on a list with sublists,\n",
        "  #Write a Python program, which returns a list with 2-tuples. Each tuple consists of the order number and the product of the price per item and the quantity.\n",
        "  #The product should be increased by 10,- € if the value of the order is smaller than 100,00 €.\n",
        "  #Write a Python program using lambda and map.\n",
        "\n",
        "\n",
        "  # Define the list of orders\n",
        "orders = [\n",
        "    [34587, \"Learning Python, Mark Lutz\", 4, 40.95],\n",
        "    [98762, \"Programming Python, Mark Lutz\", 5, 56.80],\n",
        "    [77226, \"Head First Python, Paul Barry\", 3, 32.95],\n",
        "    [88112, \"Einfuhrung in Python3, Bernd Klein\", 3, 24.99],\n",
        "]\n",
        "\n",
        "# Function to calculate total cost with the condition\n",
        "calculate_total = lambda order: (order[0], order[2] * order[3] + (10 if (order[2] * order[3]) < 100 else 0))\n",
        "\n",
        "# Use map to create the list of tuples\n",
        "result = list(map(calculate_total, orders))\n",
        "\n",
        "# Print the result\n",
        "print(result)\n"
      ],
      "metadata": {
        "colab": {
          "base_uri": "https://localhost:8080/"
        },
        "id": "LVpRvc_Drn9_",
        "outputId": "ae6eaf2e-ec7a-4f37-856e-f709c79756dc"
      },
      "execution_count": 29,
      "outputs": [
        {
          "output_type": "stream",
          "name": "stdout",
          "text": [
            "[(34587, 163.8), (98762, 284.0), (77226, 108.85000000000001), (88112, 84.97)]\n"
          ]
        }
      ]
    }
  ]
}